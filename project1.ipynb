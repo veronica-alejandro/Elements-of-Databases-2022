{
 "cells": [
  {
   "cell_type": "code",
   "execution_count": 1,
   "id": "cfe019d1-ff99-45d7-99b3-81f8dc518297",
   "metadata": {},
   "outputs": [],
   "source": [
    "!mysql < /home/jupyter/snippets/sakila-database.sql\n",
    "!mysql < /home/jupyter/snippets/sakila-data.sql"
   ]
  },
  {
   "cell_type": "code",
   "execution_count": 2,
   "id": "27d75b7b-88f5-466c-b435-abf48eed3dc8",
   "metadata": {},
   "outputs": [
    {
     "name": "stdout",
     "output_type": "stream",
     "text": [
      "+----------------------------+------------+\n",
      "| Tables_in_sakila           | Table_type |\n",
      "+----------------------------+------------+\n",
      "| actor                      | BASE TABLE |\n",
      "| actor_info                 | VIEW       |\n",
      "| address                    | BASE TABLE |\n",
      "| category                   | BASE TABLE |\n",
      "| city                       | BASE TABLE |\n",
      "| country                    | BASE TABLE |\n",
      "| customer                   | BASE TABLE |\n",
      "| customer_list              | VIEW       |\n",
      "| film                       | BASE TABLE |\n",
      "| film_actor                 | BASE TABLE |\n",
      "| film_category              | BASE TABLE |\n",
      "| film_list                  | VIEW       |\n",
      "| film_text                  | BASE TABLE |\n",
      "| inventory                  | BASE TABLE |\n",
      "| language                   | BASE TABLE |\n",
      "| nicer_but_slower_film_list | VIEW       |\n",
      "| payment                    | BASE TABLE |\n",
      "| rental                     | BASE TABLE |\n",
      "| sales_by_film_category     | VIEW       |\n",
      "| sales_by_store             | VIEW       |\n",
      "| staff                      | BASE TABLE |\n",
      "| staff_list                 | VIEW       |\n",
      "| store                      | BASE TABLE |\n",
      "+----------------------------+------------+\n"
     ]
    }
   ],
   "source": [
    "!mysql sakila -e \"show full tables\""
   ]
  },
  {
   "cell_type": "code",
   "execution_count": 3,
   "id": "e258ac01-b64e-412a-a13c-b0699ad3f894",
   "metadata": {},
   "outputs": [
    {
     "name": "stdout",
     "output_type": "stream",
     "text": [
      "+------------+\n",
      "| actor rows |\n",
      "+------------+\n",
      "|        200 |\n",
      "+------------+\n",
      "+-----------------+\n",
      "| actor info rows |\n",
      "+-----------------+\n",
      "|             200 |\n",
      "+-----------------+\n",
      "+--------------+\n",
      "| address rows |\n",
      "+--------------+\n",
      "|          603 |\n",
      "+--------------+\n",
      "+---------------+\n",
      "| category rows |\n",
      "+---------------+\n",
      "|            16 |\n",
      "+---------------+\n",
      "+-----------+\n",
      "| city rows |\n",
      "+-----------+\n",
      "|       600 |\n",
      "+-----------+\n"
     ]
    }
   ],
   "source": [
    "# first 5 tables\n",
    "!mysql sakila -e \"select count(*) as 'actor rows' from actor\"\n",
    "!mysql sakila -e \"select count(*) as 'actor info rows' from actor_info\"\n",
    "!mysql sakila -e \"select count(*) as 'address rows' from address\"\n",
    "!mysql sakila -e \"select count(*) as 'category rows' from category\"\n",
    "!mysql sakila -e \"select count(*) as 'city rows' from city\""
   ]
  },
  {
   "cell_type": "code",
   "execution_count": 4,
   "id": "d7219a77-449a-4ced-9b5e-c9b1f88e1b27",
   "metadata": {
    "collapsed": true,
    "jupyter": {
     "outputs_hidden": true
    },
    "tags": []
   },
   "outputs": [
    {
     "name": "stdout",
     "output_type": "stream",
     "text": [
      "+----------+------------+--------------+---------------------+\n",
      "| actor_id | first_name | last_name    | last_update         |\n",
      "+----------+------------+--------------+---------------------+\n",
      "|        1 | PENELOPE   | GUINESS      | 2006-02-15 04:34:33 |\n",
      "|        2 | NICK       | WAHLBERG     | 2006-02-15 04:34:33 |\n",
      "|        3 | ED         | CHASE        | 2006-02-15 04:34:33 |\n",
      "|        4 | JENNIFER   | DAVIS        | 2006-02-15 04:34:33 |\n",
      "|        5 | JOHNNY     | LOLLOBRIGIDA | 2006-02-15 04:34:33 |\n",
      "+----------+------------+--------------+---------------------+\n",
      "+----------+------------+--------------+------------------------------------------------------------------------------------------------------------------------------------------------------------------------------------------------------------------------------------------------------------------------------------------------------------------------------------------------------------------------------------------------------------------------------------------------------------------------------------------------------------------------------------------------------------------------------------------------------------------------+\n",
      "| actor_id | first_name | last_name    | film_info                                                                                                                                                                                                                                                                                                                                                                                                                                                                                                                                                                                                              |\n",
      "+----------+------------+--------------+------------------------------------------------------------------------------------------------------------------------------------------------------------------------------------------------------------------------------------------------------------------------------------------------------------------------------------------------------------------------------------------------------------------------------------------------------------------------------------------------------------------------------------------------------------------------------------------------------------------------+\n",
      "|        1 | PENELOPE   | GUINESS      | Animation: ANACONDA CONFESSIONS; Children: LANGUAGE COWBOY; Classics: COLOR PHILADELPHIA, WESTWARD SEABISCUIT; Comedy: VERTIGO NORTHWEST; Documentary: ACADEMY DINOSAUR; Family: KING EVOLUTION, SPLASH GUMP; Foreign: MULHOLLAND BEAST; Games: BULWORTH COMMANDMENTS, HUMAN GRAFFITI; Horror: ELEPHANT TROJAN, LADY STAGE, RULES HUMAN; Music: WIZARD COLDBLOODED; New: ANGELS LIFE, OKLAHOMA JUMANJI; Sci-Fi: CHEAPER CLYDE; Sports: GLEAMING JAWBREAKER                                                                                                                                                             |\n",
      "|        2 | NICK       | WAHLBERG     | Action: BULL SHAWSHANK; Animation: FIGHT JAWBREAKER; Children: JERSEY SASSY; Classics: DRACULA CRYSTAL, GILBERT PELICAN; Comedy: MALLRATS UNITED, RUSHMORE MERMAID; Documentary: ADAPTATION HOLES; Drama: WARDROBE PHANTOM; Family: APACHE DIVINE, CHISUM BEHAVIOR, INDIAN LOVE, MAGUIRE APACHE; Foreign: BABY HALL, HAPPINESS UNITED; Games: ROOF CHAMPION; Music: LUCKY FLYING; New: DESTINY SATURDAY, FLASH WARS, JEKYLL FROGMEN, MASK PEACH; Sci-Fi: CHAINSAW UPTOWN, GOODFELLAS SALUTE; Travel: LIAISONS SWEET, SMILE EARRING                                                                                     |\n",
      "|        3 | ED         | CHASE        | Action: CADDYSHACK JEDI, FORREST SONS; Classics: FROST HEAD, JEEPERS WEDDING; Documentary: ARMY FLINTSTONES, FRENCH HOLIDAY, HALLOWEEN NUTS, HUNTER ALTER, WEDDING APOLLO, YOUNG LANGUAGE; Drama: LUCK OPUS, NECKLACE OUTBREAK, SPICE SORORITY; Foreign: COWBOY DOOM, WHALE BIKINI; Music: ALONE TRIP; New: EVE RESURRECTION, PLATOON INSTINCT; Sci-Fi: WEEKEND PERSONAL; Sports: ARTIST COLDBLOODED, IMAGE PRINCESS; Travel: BOONDOCK BALLROOM                                                                                                                                                                        |\n",
      "|        4 | JENNIFER   | DAVIS        | Action: BAREFOOT MANCHURIAN; Animation: ANACONDA CONFESSIONS, GHOSTBUSTERS ELF; Comedy: SUBMARINE BED; Documentary: BED HIGHBALL, NATIONAL STORY, RAIDERS ANTITRUST; Drama: BLADE POLISH, GREEDY ROOTS; Family: SPLASH GUMP; Horror: TREASURE COMMAND; Music: HANOVER GALAXY, REDS POCUS; New: ANGELS LIFE, JUMANJI BLADE, OKLAHOMA JUMANJI; Sci-Fi: RANDOM GO, SILVERADO GOLDFINGER, UNFORGIVEN ZOOLANDER; Sports: INSTINCT AIRPORT, POSEIDON FOREVER; Travel: BOONDOCK BALLROOM                                                                                                                                      |\n",
      "|        5 | JOHNNY     | LOLLOBRIGIDA | Action: AMADEUS HOLY, GRAIL FRANKENSTEIN, RINGS HEARTBREAKERS; Animation: SUNRISE LEAGUE; Children: HALL CASSIDY; Comedy: DADDY PITTSBURGH; Documentary: BONNIE HOLOCAUST, METAL ARMAGEDDON, PACIFIC AMISTAD, POCUS PULP; Drama: CHITTY LOCK, CONEHEADS SMOOCHY; Games: FIRE WOLVES; Horror: COMMANDMENTS EXPRESS, LOVE SUICIDES, PATTON INTERVIEW; Music: BANGER PINOCCHIO, HEAVENLY GUN; New: FRONTIER CABIN, RIDGEMONT SUBMARINE; Sci-Fi: DAISY MENAGERIE, GOODFELLAS SALUTE, SOLDIERS EVOLUTION; Sports: GROOVE FICTION, KRAMER CHOCOLATE, STAR OPERATION; Travel: ENOUGH RAGING, ESCAPE METROPOLIS, SMILE EARRING |\n",
      "+----------+------------+--------------+------------------------------------------------------------------------------------------------------------------------------------------------------------------------------------------------------------------------------------------------------------------------------------------------------------------------------------------------------------------------------------------------------------------------------------------------------------------------------------------------------------------------------------------------------------------------------------------------------------------------+\n",
      "+------------+----------------------+----------+----------+---------+-------------+-------------+---------------------------+---------------------+\n",
      "| address_id | address              | address2 | district | city_id | postal_code | phone       | location                  | last_update         |\n",
      "+------------+----------------------+----------+----------+---------+-------------+-------------+---------------------------+---------------------+\n",
      "|          1 | 47 MySakila Drive    | NULL     | Alberta  |     300 |             |             |     \u0001\u0001   >\n",
      "2]c4\\�v\u001fۍ��H@     | 2014-09-25 22:30:27 |\n",
      "|          2 | 28 MySQL Boulevard   | NULL     | QLD      |     576 |             |             |     \u0001\u0001   �\u0010�߁$c@N��P\"�;�        | 2014-09-25 22:30:09 |\n",
      "|          3 | 23 Workhaven Lane    | NULL     | Alberta  |     300 |             | 14033335568 |     \u0001\u0001   ��\u0019hc4\\�\u001d",
      "�~p��H@       | 2014-09-25 22:30:27 |\n",
      "�4\u001f&c@B֮d\"�;�     | 2014-09-25 22:30:09 |L     | QLD      |     576 |             | 6172235589  |     \u0001\u0001   [\n",
      "|          5 | 1913 Hanoi Way       |          | Nagasaki |     463 | 35200       | 28303384290 |     \u0001\u0001   (�7\u000e!7`@����_�@@       | 2014-09-25 22:31:53 |\n",
      "+------------+----------------------+----------+----------+---------+-------------+-------------+---------------------------+---------------------+\n",
      "+-------------+-----------+---------------------+\n",
      "| category_id | name      | last_update         |\n",
      "+-------------+-----------+---------------------+\n",
      "|           1 | Action    | 2006-02-15 04:46:27 |\n",
      "|           2 | Animation | 2006-02-15 04:46:27 |\n",
      "|           3 | Children  | 2006-02-15 04:46:27 |\n",
      "|           4 | Classics  | 2006-02-15 04:46:27 |\n",
      "|           5 | Comedy    | 2006-02-15 04:46:27 |\n",
      "+-------------+-----------+---------------------+\n",
      "+---------+------------------------+------------+---------------------+\n",
      "| city_id | city                   | country_id | last_update         |\n",
      "+---------+------------------------+------------+---------------------+\n",
      "|       1 | A Coruña (La Coruña)   |         87 | 2006-02-15 04:45:25 |\n",
      "|       2 | Abha                   |         82 | 2006-02-15 04:45:25 |\n",
      "|       3 | Abu Dhabi              |        101 | 2006-02-15 04:45:25 |\n",
      "|       4 | Acuña                  |         60 | 2006-02-15 04:45:25 |\n",
      "|       5 | Adana                  |         97 | 2006-02-15 04:45:25 |\n",
      "+---------+------------------------+------------+---------------------+\n"
     ]
    }
   ],
   "source": [
    "# first 5 tables\n",
    "!mysql sakila -e \"select * from actor limit 5\"\n",
    "!mysql sakila -e \"select * from actor_info limit 5\"\n",
    "!mysql sakila -e \"select * from address limit 5\"\n",
    "!mysql sakila -e \"select * from category limit 5\"\n",
    "!mysql sakila -e \"select * from city limit 5\""
   ]
  },
  {
   "cell_type": "code",
   "execution_count": 5,
   "id": "dcc18fce-4732-4f79-ab30-452edfe9c77b",
   "metadata": {},
   "outputs": [
    {
     "name": "stdout",
     "output_type": "stream",
     "text": [
      "+----------+------------+--------------+---------------------+\n",
      "| actor_id | first_name | last_name    | last_update         |\n",
      "+----------+------------+--------------+---------------------+\n",
      "|        1 | PENELOPE   | GUINESS      | 2006-02-15 04:34:33 |\n",
      "|        2 | NICK       | WAHLBERG     | 2006-02-15 04:34:33 |\n",
      "|        3 | ED         | CHASE        | 2006-02-15 04:34:33 |\n",
      "|        4 | JENNIFER   | DAVIS        | 2006-02-15 04:34:33 |\n",
      "|        5 | JOHNNY     | LOLLOBRIGIDA | 2006-02-15 04:34:33 |\n",
      "+----------+------------+--------------+---------------------+\n"
     ]
    }
   ],
   "source": [
    "!mysql sakila -e \"select * from actor limit 5\""
   ]
  },
  {
   "cell_type": "code",
   "execution_count": 6,
   "id": "b75f33c6-7e09-4bbb-bcd7-cfe9f2bb54a9",
   "metadata": {},
   "outputs": [
    {
     "name": "stdout",
     "output_type": "stream",
     "text": [
      "+------------+-----------+\n",
      "| first_name | last_name |\n",
      "+------------+-----------+\n",
      "| ANGELINA   | ASTAIRE   |\n",
      "| CHRISTIAN  | AKROYD    |\n",
      "| CUBA       | ALLEN     |\n",
      "| DEBBIE     | AKROYD    |\n",
      "| KIM        | ALLEN     |\n",
      "| KIRSTEN    | AKROYD    |\n",
      "| MERYL      | ALLEN     |\n",
      "+------------+-----------+\n"
     ]
    }
   ],
   "source": [
    "# get first and last name of actors whose last name starts with A, ordered by first name\n",
    "!mysql sakila -e \"select first_name, last_name from actor where last_name like 'A%' order by first_name\""
   ]
  },
  {
   "cell_type": "code",
   "execution_count": 7,
   "id": "8d558784-1fe8-4f54-bfbf-69d60f138cd2",
   "metadata": {},
   "outputs": [],
   "source": [
    "# insert CHRISTIAN BALE into actor table\n",
    "!mysql sakila -e \"insert into actor (first_name, last_name) values ('CHRISTIAN', 'BALE')\""
   ]
  },
  {
   "cell_type": "code",
   "execution_count": 8,
   "id": "c0b83f38-9722-439c-8ec0-67d40bf15563",
   "metadata": {},
   "outputs": [],
   "source": [
    "# set any actor's first name to Christian whose last name is BALE\n",
    "!mysql sakila -e \"update actor set first_name = 'Christian' where last_name = 'BALE'\""
   ]
  },
  {
   "cell_type": "code",
   "execution_count": 9,
   "id": "a93758fc-89e0-4a3b-936c-4c5bb3b5c39a",
   "metadata": {},
   "outputs": [],
   "source": [
    "# delete entires with actor id of 1 from film actor table\n",
    "!mysql sakila -e \"delete from film_actor where actor_id = 1\""
   ]
  }
 ],
 "metadata": {
  "environment": {
   "kernel": "python3",
   "name": "common-cpu.m94",
   "type": "gcloud",
   "uri": "gcr.io/deeplearning-platform-release/base-cpu:m94"
  },
  "kernelspec": {
   "display_name": "Python 3",
   "language": "python",
   "name": "python3"
  },
  "language_info": {
   "codemirror_mode": {
    "name": "ipython",
    "version": 3
   },
   "file_extension": ".py",
   "mimetype": "text/x-python",
   "name": "python",
   "nbconvert_exporter": "python",
   "pygments_lexer": "ipython3",
   "version": "3.7.12"
  }
 },
 "nbformat": 4,
 "nbformat_minor": 5
}
